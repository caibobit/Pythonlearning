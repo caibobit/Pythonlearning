{
 "cells": [
  {
   "cell_type": "markdown",
   "metadata": {},
   "source": [
    "# python re，模块复习"
   ]
  },
  {
   "cell_type": "markdown",
   "metadata": {},
   "source": [
    "## 基本函数"
   ]
  },
  {
   "cell_type": "markdown",
   "metadata": {},
   "source": [
    "### compile(pattern):创建模式对象"
   ]
  },
  {
   "cell_type": "markdown",
   "metadata": {},
   "source": [
    "<a href=\"http://mp.weixin.qq.com/s/q7sxd8_SB48G9ADr6Nc3nA\">微信-python-开发者</a>"
   ]
  },
  {
   "cell_type": "code",
   "execution_count": 2,
   "metadata": {
    "collapsed": true
   },
   "outputs": [],
   "source": [
    "import re\n",
    "pat=re.compile('A')\n",
    "pat1=re.compile('[,]+')"
   ]
  },
  {
   "cell_type": "markdown",
   "metadata": {},
   "source": [
    "search(pattern,string)\n",
    "寻找字符串中有没有\n",
    "<p>match(pattern,string)\n",
    "从字符串开始位置开始匹配</p>"
   ]
  },
  {
   "cell_type": "code",
   "execution_count": 8,
   "metadata": {},
   "outputs": [
    {
     "name": "stdout",
     "output_type": "stream",
     "text": [
      "<_sre.SRE_Match object; span=(3, 6), match='asd'>\n",
      "asd\n",
      "ok\n"
     ]
    }
   ],
   "source": [
    "m = re.search('asd','ASDasd')\n",
    "print (m)\n",
    "#使用 group来获取值\n",
    "print (m.group())\n",
    "#m也是具有布尔性质的。\n",
    "m1=re.search('asd','ASDASD')\n",
    "if m: \n",
    "    print ('ok')\n",
    "if m1:\n",
    "    print ('ok1')"
   ]
  },
  {
   "cell_type": "code",
   "execution_count": 10,
   "metadata": {},
   "outputs": [
    {
     "name": "stdout",
     "output_type": "stream",
     "text": [
      "None\n",
      "a\n"
     ]
    }
   ],
   "source": [
    "pat=re.compile('a')\n",
    "print (pat.match('Aasd'))\n",
    "print (pat.match('aasd').group())"
   ]
  },
  {
   "cell_type": "markdown",
   "metadata": {},
   "source": [
    "### split(pattern,string,maxsplit)\n",
    "按照pattern进行分割"
   ]
  },
  {
   "cell_type": "code",
   "execution_count": 14,
   "metadata": {},
   "outputs": [
    {
     "name": "stdout",
     "output_type": "stream",
     "text": [
      "['a', 's', 'd', 'asd']\n"
     ]
    },
    {
     "data": {
      "text/plain": [
       "['a', 's', 'd', 'asd']"
      ]
     },
     "execution_count": 14,
     "metadata": {},
     "output_type": "execute_result"
    }
   ],
   "source": [
    "print (re.split(',','a,s,d,asd'))\n",
    "#两种不同形式的写法\n",
    "pat = re.compile(',')\n",
    "pat.split(('a,s,d,asd'))"
   ]
  },
  {
   "cell_type": "code",
   "execution_count": 20,
   "metadata": {},
   "outputs": [
    {
     "data": {
      "text/plain": [
       "['a', 's', 't ,d     ,,,,,asd']"
      ]
     },
     "execution_count": 20,
     "metadata": {},
     "output_type": "execute_result"
    }
   ],
   "source": [
    "re.split('[, ]+','a , s ,t ,d     ,,,,,asd',maxsplit=2) "
   ]
  },
  {
   "cell_type": "markdown",
   "metadata": {},
   "source": [
    "### findall(pattern,string)\n",
    "列表形式返回匹配到的字符串"
   ]
  },
  {
   "cell_type": "code",
   "execution_count": 21,
   "metadata": {},
   "outputs": [
    {
     "data": {
      "text/plain": [
       "['a', 'a']"
      ]
     },
     "execution_count": 21,
     "metadata": {},
     "output_type": "execute_result"
    }
   ],
   "source": [
    "re.findall('a','ASDaDFGAa') #列表形式返回匹配到的字符串\n",
    "#依旧是两种不同的形式表达 \n",
    "pat = re.compile('a')\n",
    "pat.findall('ASDaDFGAa')  "
   ]
  },
  {
   "cell_type": "markdown",
   "metadata": {},
   "source": [
    "### sub(pattern,repl,string)\n",
    "用repl 替换pattren匹配到的"
   ]
  },
  {
   "cell_type": "code",
   "execution_count": 3,
   "metadata": {},
   "outputs": [
    {
     "name": "stdout",
     "output_type": "stream",
     "text": [
      "AbcAsd\n"
     ]
    }
   ],
   "source": [
    "print (re.sub('a','A','abcasd'))"
   ]
  },
  {
   "cell_type": "markdown",
   "metadata": {},
   "source": [
    "需要说明的是sub方法会替换掉所有的符合要求的匹配\n",
    "match是从头开始，sub并不是，只要符合要求就回去替换，看下面的例子"
   ]
  },
  {
   "cell_type": "code",
   "execution_count": 8,
   "metadata": {},
   "outputs": [
    {
     "name": "stdout",
     "output_type": "stream",
     "text": [
      "aa\n"
     ]
    }
   ],
   "source": [
    "#以这种方式来建立pattern\n",
    "pa=re.compile(r'(.)\\1*')\n",
    "#说明，这里的(.)首先建立一个组，通过\\1来调用这个组，随后就可以用*来匹配0次或者任意次数\n",
    "#用来match中那么只会匹配第一个组\n",
    "print(re.match(pa,'aaabbaba').group())"
   ]
  },
  {
   "cell_type": "code",
   "execution_count": 9,
   "metadata": {},
   "outputs": [
    {
     "name": "stdout",
     "output_type": "stream",
     "text": [
      "之前的s: aaabbaba\n",
      "之后的s: 3a2b1a1b1a\n"
     ]
    }
   ],
   "source": [
    "#但是用在sub中就会是不同的情况，会替换所有组\n",
    "s='aaabbaba'\n",
    "print ('之前的s: %s'%(s))\n",
    "s = re.sub(pa, lambda m: str(len(m.group(0))) + m.group(1), s)\n",
    "print ('之后的s: %s'% s)"
   ]
  },
  {
   "cell_type": "markdown",
   "metadata": {},
   "source": [
    "说明一下：sub中会匹配不同的组，对于（.）其实只是匹配一个，匹配结果也就一个组，后面虽然有其他的匹配组但是组名仍然是1，但是长度就不是1了（也就是说第一个a是（.）匹配到的，后面的aa是\\1*（相当于(.)*）匹配到的。依次匹配到aaa,bb,a,b,a。"
   ]
  },
  {
   "cell_type": "code",
   "execution_count": 56,
   "metadata": {},
   "outputs": [
    {
     "name": "stdout",
     "output_type": "stream",
     "text": [
      "www.dxy.com\n",
      "dxy\n",
      "com\n"
     ]
    }
   ],
   "source": [
    "pat=re.compile(r'www.(.*)..{3}')\n",
    "pat1=re.compile(r'www\\.(.*)\\.(.*)')\n",
    "print (pat.match('www.dxy.com').group(0))\n",
    "#group(0)和group没有区别都是匹配所有\n",
    "print (pat.match('www.dxy.com').group(1))\n",
    "#如果group(1)则表示 匹配pattern中()中的内容,1代表第一个\n",
    "print (pat1.match('www.dxy.com').group(2))"
   ]
  },
  {
   "cell_type": "code",
   "execution_count": 59,
   "metadata": {},
   "outputs": [
    {
     "name": "stdout",
     "output_type": "stream",
     "text": [
      "hello,dxy\n",
      "hello,com\n"
     ]
    }
   ],
   "source": [
    "print(re.sub(r'www\\.(.*)\\..{3}',r'\\1','hello,www.dxy.com'))\n",
    "#  r'\\1'表示与 group()中的相对应\n",
    "print(re.sub(pat1,r'\\2','hello,www.dxy.com'))"
   ]
  },
  {
   "cell_type": "code",
   "execution_count": 61,
   "metadata": {},
   "outputs": [
    {
     "name": "stdout",
     "output_type": "stream",
     "text": [
      "[('hello', 'world'), ('hello', 'hz')]\n",
      "['hello', 'world', 'hello', 'hz']\n"
     ]
    }
   ],
   "source": [
    "pat=re.compile(r'(\\w+) (\\w+)')  #匹配到两个作为一组，不是单个匹配\n",
    "pat1=re.compile(r'(\\w+)')      \n",
    "s='hello world ! hello hz !'\n",
    "print (re.findall(pat,s))\n",
    "print (re.findall(pat1,s))"
   ]
  },
  {
   "cell_type": "code",
   "execution_count": 65,
   "metadata": {},
   "outputs": [
    {
     "name": "stdout",
     "output_type": "stream",
     "text": [
      "world hello ! hz hello !\n"
     ]
    }
   ],
   "source": [
    "print (pat.sub(r'\\2 \\1',s))\n",
    "#将 两组中的元素互换"
   ]
  },
  {
   "cell_type": "markdown",
   "metadata": {},
   "source": [
    "### escape(string)\n",
    "对特殊字符进行转义"
   ]
  },
  {
   "cell_type": "code",
   "execution_count": 66,
   "metadata": {},
   "outputs": [
    {
     "data": {
      "text/plain": [
       "'www\\\\.dxy\\\\.cn'"
      ]
     },
     "execution_count": 66,
     "metadata": {},
     "output_type": "execute_result"
    }
   ],
   "source": [
    "re.escape('www.dxy.cn')"
   ]
  },
  {
   "cell_type": "markdown",
   "metadata": {},
   "source": [
    "## 函数的方法（指的是search，match之后的结果）"
   ]
  },
  {
   "cell_type": "markdown",
   "metadata": {},
   "source": [
    "### group() \n",
    "获取匹配项结果"
   ]
  },
  {
   "cell_type": "code",
   "execution_count": 70,
   "metadata": {},
   "outputs": [
    {
     "name": "stdout",
     "output_type": "stream",
     "text": [
      "www.dxy.com\n",
      "dxy\n",
      "com\n",
      "8\n",
      "7\n",
      "(4, 7)\n"
     ]
    }
   ],
   "source": [
    "pat = re.compile(r'www\\.(.*)\\.(.*)')       #用()表示1个组，2个组\n",
    "m = pat.match('www.dxy.com')\n",
    "print (m.group())                              #默认为0，表示匹配整个字符串  ' \n",
    "print(m.group(1))                        #返回给定组1匹配的子字符串\n",
    "print(m.group(2))\n",
    "\n",
    "\"\"\"\n",
    "使用start end来指定匹配的开始结束位置span整个周期的起始\n",
    "\"\"\"\n",
    "print(m.start(2))\n",
    "print(m.end(1))\n",
    "print(m.span(1))"
   ]
  },
  {
   "cell_type": "markdown",
   "metadata": {},
   "source": [
    "## 所有的匹配"
   ]
  },
  {
   "cell_type": "code",
   "execution_count": 96,
   "metadata": {},
   "outputs": [
    {
     "name": "stdout",
     "output_type": "stream",
     "text": [
      ".\n",
      "a\n",
      "['a', 'b', 'c']\n",
      "['\\r', ' ', '\\n', ' ', '\\t']\n",
      "['a', 'x', '1', 'b', 'y', '2', 'c', 'z', '3']\n",
      "['cba']\n",
      "['c']\n",
      "('a', 'c')\n",
      "{'K': 'a'}\n",
      "abca\n",
      "[('a', 'c')]\n",
      "abcac\n"
     ]
    }
   ],
   "source": [
    "# -*- coding:UTF-8 -*-\n",
    "#  . 匹配除换行符之外的任意字符\n",
    "#    \"\\\" 转义字符\n",
    "pat=re.compile('\\.')\n",
    "print (pat.search('abc.efg').group())\n",
    "#  [...]字符集合，匹配里面的任意一个\n",
    "pat=re.compile('[abc]')\n",
    "print(pat.match('akbikjkc').group())\n",
    "print(pat.findall('akbikjkc'))\n",
    "#    \"\\d\"数字 \"\\D\"非数字\n",
    "#    \"\\s\" 空白字符 \\t,\\r ,\\n   \"\\S\"非空白字符    \n",
    "pat=re.compile('\\s')\n",
    "print (pat.findall('\\rax1 \\nby2 \\tcz3'))\n",
    "pat=re.compile('\\S')\n",
    "print (pat.findall('\\rax1 \\nby2 \\tcz3'))\n",
    "#     \\w  [a-zA-Z0-9]\n",
    "#    \\W  非单词字符\n",
    "\"\"\"\n",
    "* 0次或者多次\n",
    "+ 1次或者多次\n",
    "？0次或者1次\n",
    "[abc]+  贪婪模式 \n",
    "[abc]+? 非贪婪模式 \n",
    "{m} 匹配指定次数m\n",
    "{m,n} 匹配次数在 m-n之间\n",
    "^ \\A   开头\n",
    "$  \\Z  结尾\n",
    "(...)  分组 \n",
    "<number>：引用编号为<number>的分组匹配到的字符串\n",
    "“(?P<name>…)” ：在模式里面用()来表示分组（命名分组）,适用于提取目标字符串中的某一些部位。\n",
    "“(?P=name)”：引用别名为<name>的分组匹配到的串\n",
    "\n",
    "\"\"\" \n",
    "pat = re.compile('^[abc]+')    #开头是a、b、c中的任意一个的一次或则多次，贪婪：匹配多个\n",
    "print(pat.findall('cbadefab'))\n",
    "pat = re.compile(r'^[abc]+?')  #开头是a、b、c中的任意一个的一次或则多次，非贪婪：匹配一个\n",
    "print(pat.findall('cbadefab'))\n",
    "# group分组 \n",
    "print(re.match('(a)b(c)','abcdef').groups()) #返回所有分组\n",
    "#分组 的定义域引用\n",
    "pat=re.compile(r'(?P<K>a)\\w(c)')\n",
    "print(pat.search('abcdef').groupdict() )\n",
    "pat=re.compile(r'(?P<K>a)\\w(c)(?P=K)') #(?P=K)引用分组1的值，就是a\n",
    "print(pat.search('abcaef').group() )       #因为完整'a\\wca',模式的第4\n",
    "pat=re.compile(r'(?P<K>a)\\w(c)(?P=K)\\2')  #\\2引用分组2的值，就是c\n",
    "print(pat.findall('Aabcacdef'))      #因为完整'a\\wcac',模式的第5位 返回引用的\n",
    "print(pat.search('Aabcacdef').group()) "
   ]
  },
  {
   "cell_type": "markdown",
   "metadata": {},
   "source": [
    "## 特殊构造\n",
    "### (?:…) (…)不分组版本,用于使用 | 或者后接数量词\n",
    "### (?iLmsux) iLmsux的每个字符代表一个匹配模式,只能用在正则表达式的开头,可选多个\n",
    "### (?#…) #号后的内容将作为注释\n",
    "### (?=…) 之后的字符串内容需要匹配表达式才能成功匹配\n",
    "### (?!…) 之后的字符串不匹配表达式才能成功\n",
    "### (?(?(?(id/name) yes |no) 如果编号为id/名字为name的组匹配到字符串,则需要匹配yes,否则匹配no,no可以省略"
   ]
  },
  {
   "cell_type": "code",
   "execution_count": 99,
   "metadata": {},
   "outputs": [
    {
     "name": "stdout",
     "output_type": "stream",
     "text": [
      "['ABC']\n",
      "['aBC']\n"
     ]
    }
   ],
   "source": [
    "pat=re.compile(r'(?i)abc')            #(?i) 不区分大小写\n",
    "print(pat.findall('ABC'))\n",
    "# ；另外一种方式\n",
    "re.compile(r'abc',re.I)           #re.I 作为参数使用，推荐\n",
    "print(pat.findall('aBC'))"
   ]
  },
  {
   "cell_type": "code",
   "execution_count": 102,
   "metadata": {},
   "outputs": [
    {
     "name": "stdout",
     "output_type": "stream",
     "text": [
      "['abc', 'def', 'xyz']\n",
      "['zhoujy', 'angzhou', 'binjiang']\n",
      "[]\n",
      "['abc', 'def', 'xyz']\n",
      "['hangzhou']\n"
     ]
    }
   ],
   "source": [
    "#“(?<!…)”：不匹配…表达式，返回。对前进行匹配,总是对前面进行匹配\n",
    "pat=re.compile(r'(?<!\\d)[A-Za-z]+')      #匹配前面不是数字的字母\n",
    "print (pat.findall('abc21,def31,xyz41'))\n",
    "print (pat.findall('zhoujy20130628hangzhou123,12,binjiang310'))\n",
    "# “(?<=…)”：匹配…表达式，返回。对前进行匹配,总是对前面进行匹配\n",
    "pat=re.compile(r'(?<=\\d)[A-Za-z]+')      #匹配前面是数字的字母\n",
    "print (pat.findall('abc21,def31,xyz41'))\n",
    "print (pat.findall('1abc21,2def31,3xyz41'))\n",
    "print (pat.findall('zhoujy20130628hangzhou123,12,binjiang310'))"
   ]
  },
  {
   "cell_type": "code",
   "execution_count": 104,
   "metadata": {},
   "outputs": [
    {
     "name": "stdout",
     "output_type": "stream",
     "text": [
      "['c', 'f', 'z']\n",
      "['y', '2', '0', '1', '3', '0', '6', '2']\n",
      "['ab', 'de', 'xy']\n",
      "['zhouj', 'hangzhou']\n"
     ]
    }
   ],
   "source": [
    "#“(?=…)”：匹配…表达式，返回。对后进行匹配，总是对后面进行匹配\n",
    "pat=re.compile(r'\\w(?=\\d)')\n",
    "print (pat.findall('abc1 def1 xyz1'))\n",
    "print (pat.findall('zhoujy20130628hangzhou') )  #匹配数字的前一位，列表返回\n",
    "#“(?!…)” 不匹配…表达式，返回。对后进行匹配\n",
    "pat=re.compile(r'[A-Za-z]+(?!\\d)') \n",
    "print (pat.findall('abc1 def1 xyz1'))\n",
    "print (pat.findall('zhoujy20130628hangzhou') )"
   ]
  },
  {
   "cell_type": "code",
   "execution_count": 105,
   "metadata": {},
   "outputs": [
    {
     "name": "stdout",
     "output_type": "stream",
     "text": [
      "['abc']\n",
      "()\n"
     ]
    }
   ],
   "source": [
    "#“(?:…)” ：()里面有?:表示该()不是分组\n",
    "#就是不显示分组\n",
    "pat=re.compile(r'a(?:bc)')\n",
    "print ( pat.findall('abc'))\n",
    "print ( pat.match('abc').groups()) #有 但是不显示"
   ]
  },
  {
   "cell_type": "code",
   "execution_count": null,
   "metadata": {
    "collapsed": true
   },
   "outputs": [],
   "source": []
  }
 ],
 "metadata": {
  "kernelspec": {
   "display_name": "Python 3",
   "language": "python",
   "name": "python3"
  },
  "language_info": {
   "codemirror_mode": {
    "name": "ipython",
    "version": 3
   },
   "file_extension": ".py",
   "mimetype": "text/x-python",
   "name": "python",
   "nbconvert_exporter": "python",
   "pygments_lexer": "ipython3",
   "version": "3.6.1"
  }
 },
 "nbformat": 4,
 "nbformat_minor": 2
}
